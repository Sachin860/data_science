{
 "cells": [
  {
   "cell_type": "code",
   "execution_count": 1,
   "id": "fa2ac931-2157-42a5-aa43-bfce65b055f0",
   "metadata": {},
   "outputs": [
    {
     "name": "stdout",
     "output_type": "stream",
     "text": [
      "Original DataFrame:\n",
      "   Color\n",
      "0    Red\n",
      "1  Green\n",
      "2   Blue\n",
      "3    Red\n",
      "\n",
      "DataFrame after One-Hot Encoding:\n",
      "   Color_Blue  Color_Green  Color_Red\n",
      "0       False        False       True\n",
      "1       False         True      False\n",
      "2        True        False      False\n",
      "3       False        False       True\n"
     ]
    }
   ],
   "source": [
    "import pandas as pd\n",
    "\n",
    "# Step 2: Create a sample DataFrame\n",
    "data = {\n",
    "    'Color': ['Red', 'Green', 'Blue', 'Red']\n",
    "}\n",
    "df = pd.DataFrame(data)\n",
    "print(\"Original DataFrame:\")\n",
    "print(df)\n",
    "\n",
    "# Step 3: Apply one-hot encoding\n",
    "df_encoded = pd.get_dummies(df, columns=['Color'])\n",
    "print(\"\\nDataFrame after One-Hot Encoding:\")\n",
    "print(df_encoded)"
   ]
  },
  {
   "cell_type": "code",
   "execution_count": 54,
   "id": "bfdf266d-d739-432d-a5b5-20c0e42715cf",
   "metadata": {},
   "outputs": [
    {
     "name": "stdout",
     "output_type": "stream",
     "text": [
      "Original DataFrame:\n",
      "   Color\n",
      "0    Red\n",
      "1  Green\n",
      "2   Blue\n",
      "3    Red\n",
      "\n",
      "DataFrame after Label Encoding:\n",
      "   Color  Color_encoded\n",
      "0    Red              2\n",
      "1  Green              1\n",
      "2   Blue              0\n",
      "3    Red              2\n"
     ]
    }
   ],
   "source": [
    "import pandas as pd\n",
    "from sklearn.preprocessing import LabelEncoder\n",
    "\n",
    "# Step 2: Create a sample DataFrame\n",
    "data = {\n",
    "    'Color': ['Red', 'Green', 'Blue', 'Red']\n",
    "}\n",
    "df = pd.DataFrame(data)\n",
    "print(\"Original DataFrame:\")\n",
    "print(df)\n",
    "\n",
    "# Step 3: Apply label encoding\n",
    "label_encoder = LabelEncoder()\n",
    "df['Color_encoded'] = label_encoder.fit_transform(df['Color'])\n",
    "print(\"\\nDataFrame after Label Encoding:\")\n",
    "print(df)"
   ]
  },
  {
   "cell_type": "code",
   "execution_count": 12,
   "id": "e2ade32e-bea2-4fcf-bb76-30a277e61cd4",
   "metadata": {},
   "outputs": [
    {
     "name": "stdout",
     "output_type": "stream",
     "text": [
      "Original DataFrame:\n",
      "     Size\n",
      "0   Small\n",
      "1  Medium\n",
      "2   Large\n",
      "3  Medium\n",
      "4   Small\n",
      "\n",
      "DataFrame after Ordinal Encoding:\n",
      "     Size  Size_encoded\n",
      "0   Small           0.0\n",
      "1  Medium           1.0\n",
      "2   Large           2.0\n",
      "3  Medium           1.0\n",
      "4   Small           0.0\n"
     ]
    }
   ],
   "source": [
    "import pandas as pd\n",
    "from sklearn.preprocessing import OrdinalEncoder\n",
    "\n",
    "# Step 2: Create a sample DataFrame\n",
    "data = {\n",
    "    'Size': ['Small', 'Medium', 'Large', 'Medium', 'Small']\n",
    "}\n",
    "df = pd.DataFrame(data)\n",
    "print(\"Original DataFrame:\")\n",
    "print(df)\n",
    "\n",
    "# Step 3: Apply ordinal encoding\n",
    "size_categories = ['Small', 'Medium', 'Large']  # Define the order\n",
    "ordinal_encoder = OrdinalEncoder(categories=[size_categories])\n",
    "df['Size_encoded'] = ordinal_encoder.fit_transform(df[['Size']])\n",
    "print(\"\\nDataFrame after Ordinal Encoding:\")\n",
    "print(df)"
   ]
  },
  {
   "cell_type": "code",
   "execution_count": 39,
   "id": "61000591-30ea-459f-8f82-d429127d04db",
   "metadata": {},
   "outputs": [
    {
     "name": "stdout",
     "output_type": "stream",
     "text": [
      "Requirement already satisfied: category_encoders in c:\\users\\keert\\anaconda3\\lib\\site-packages (2.6.3)\n",
      "Requirement already satisfied: numpy>=1.14.0 in c:\\users\\keert\\anaconda3\\lib\\site-packages (from category_encoders) (1.26.4)\n",
      "Requirement already satisfied: scikit-learn>=0.20.0 in c:\\users\\keert\\anaconda3\\lib\\site-packages (from category_encoders) (1.4.2)\n",
      "Requirement already satisfied: scipy>=1.0.0 in c:\\users\\keert\\anaconda3\\lib\\site-packages (from category_encoders) (1.13.1)\n",
      "Requirement already satisfied: statsmodels>=0.9.0 in c:\\users\\keert\\anaconda3\\lib\\site-packages (from category_encoders) (0.14.2)\n",
      "Requirement already satisfied: pandas>=1.0.5 in c:\\users\\keert\\anaconda3\\lib\\site-packages (from category_encoders) (2.2.2)\n",
      "Requirement already satisfied: patsy>=0.5.1 in c:\\users\\keert\\anaconda3\\lib\\site-packages (from category_encoders) (0.5.6)\n",
      "Requirement already satisfied: python-dateutil>=2.8.2 in c:\\users\\keert\\anaconda3\\lib\\site-packages (from pandas>=1.0.5->category_encoders) (2.9.0.post0)\n",
      "Requirement already satisfied: pytz>=2020.1 in c:\\users\\keert\\anaconda3\\lib\\site-packages (from pandas>=1.0.5->category_encoders) (2024.1)\n",
      "Requirement already satisfied: tzdata>=2022.7 in c:\\users\\keert\\anaconda3\\lib\\site-packages (from pandas>=1.0.5->category_encoders) (2023.3)\n",
      "Requirement already satisfied: six in c:\\users\\keert\\anaconda3\\lib\\site-packages (from patsy>=0.5.1->category_encoders) (1.16.0)\n",
      "Requirement already satisfied: joblib>=1.2.0 in c:\\users\\keert\\anaconda3\\lib\\site-packages (from scikit-learn>=0.20.0->category_encoders) (1.4.2)\n",
      "Requirement already satisfied: threadpoolctl>=2.0.0 in c:\\users\\keert\\anaconda3\\lib\\site-packages (from scikit-learn>=0.20.0->category_encoders) (2.2.0)\n",
      "Requirement already satisfied: packaging>=21.3 in c:\\users\\keert\\anaconda3\\lib\\site-packages (from statsmodels>=0.9.0->category_encoders) (23.2)\n"
     ]
    }
   ],
   "source": [
    "!pip install category_encoders"
   ]
  },
  {
   "cell_type": "code",
   "execution_count": 23,
   "id": "3014702f-318a-4faf-9737-6e2a7a44327a",
   "metadata": {},
   "outputs": [
    {
     "name": "stdout",
     "output_type": "stream",
     "text": [
      "Original DataFrame:\n",
      "  Category\n",
      "0        A\n",
      "1        B\n",
      "2        C\n",
      "3        A\n",
      "4        B\n",
      "5        D\n",
      "\n",
      "DataFrame after Binary Encoding:\n",
      "   Category_0  Category_1  Category_2\n",
      "0           0           0           1\n",
      "1           0           1           0\n",
      "2           0           1           1\n",
      "3           0           0           1\n",
      "4           0           1           0\n",
      "5           1           0           0\n"
     ]
    }
   ],
   "source": [
    "import pandas as pd\n",
    "from category_encoders import BinaryEncoder\n",
    "\n",
    "# Step 3: Create a sample DataFrame\n",
    "data = {\n",
    "    'Category': ['A', 'B', 'C', 'A', 'B','D']\n",
    "}\n",
    "df = pd.DataFrame(data)\n",
    "print(\"Original DataFrame:\")\n",
    "print(df)\n",
    "\n",
    "# Step 4: Apply binary encoding\n",
    "binary_encoder = BinaryEncoder()\n",
    "df_encoded = binary_encoder.fit_transform(df['Category'])\n",
    "print(\"\\nDataFrame after Binary Encoding:\")\n",
    "print(df_encoded)"
   ]
  },
  {
   "cell_type": "code",
   "execution_count": 37,
   "id": "ddff8e06-3a73-457e-97ce-dc3997505b4a",
   "metadata": {},
   "outputs": [
    {
     "name": "stdout",
     "output_type": "stream",
     "text": [
      "Original DataFrame:\n",
      "  City  Price\n",
      "0  NYC    300\n",
      "1   LA    200\n",
      "2  NYC    250\n",
      "3   SF    400\n",
      "4   LA    150\n",
      "City\n",
      "LA     175.0\n",
      "NYC    275.0\n",
      "SF     400.0\n",
      "Name: Price, dtype: float64\n",
      "  City  Price  mycitytraget\n",
      "0  NYC    300         275.0\n",
      "1   LA    200         175.0\n",
      "2  NYC    250         275.0\n",
      "3   SF    400         400.0\n",
      "4   LA    150         175.0\n"
     ]
    }
   ],
   "source": [
    "import pandas as pd\n",
    "from category_encoders import TargetEncoder\n",
    "\n",
    "# Step 3: Create a sample DataFrame\n",
    "data = {\n",
    "    'City': ['NYC', 'LA', 'NYC', 'SF', 'LA'],\n",
    "    'Price': [300, 200, 250, 400, 150]\n",
    "}\n",
    "df = pd.DataFrame(data)\n",
    "print(\"Original DataFrame:\")\n",
    "print(df)\n",
    "\n",
    "citywisemean=df.groupby('City')['Price'].mean()\n",
    "print(citywisemean)\n",
    "\n",
    "df['mycitytraget']=df['City'].map(citywisemean)\n",
    "print(df)\n",
    "\n",
    "\n",
    "# # Step 4: Apply target encoding\n",
    "# target_encoder = TargetEncoder()\n",
    "# df['City_encoded'] = target_encoder.fit_transform(df['City'], df['Price'])\n",
    "# print(\"\\nDataFrame after Target Encoding:\")\n",
    "# print(df)"
   ]
  },
  {
   "cell_type": "code",
   "execution_count": 71,
   "id": "089bd656-5d81-40f7-af07-9c44d55433be",
   "metadata": {},
   "outputs": [
    {
     "name": "stdout",
     "output_type": "stream",
     "text": [
      "   id     name  gender employee_status       education\n",
      "0   1   sachin    male      employment       graduated\n",
      "1   2    varun    male    unemployment     ungraduated\n",
      "2   3  graceia  female      employment     ungraduated\n",
      "3   4    jagan    male    unemployment       graduated\n",
      "4   5  aravind    male    unemployment     ungraduated\n",
      "5   6   ramzhy    male    unemployment  post_graduated\n",
      "\n",
      "DataFrame after One-Hot Encoding:\n",
      "   id     name employee_status       education  gender_female  gender_male\n",
      "0   1   sachin      employment       graduated          False         True\n",
      "1   2    varun    unemployment     ungraduated          False         True\n",
      "2   3  graceia      employment     ungraduated           True        False\n",
      "3   4    jagan    unemployment       graduated          False         True\n",
      "4   5  aravind    unemployment     ungraduated          False         True\n",
      "5   6   ramzhy    unemployment  post_graduated          False         True\n"
     ]
    }
   ],
   "source": [
    "data =[[1,'sachin','male','employment','graduated'],[2,'varun','male','unemployment','ungraduated'],[3,'graceia','female','employment','ungraduated'],[4,'jagan','male','unemployment','graduated'],[5,'aravind','male','unemployment','ungraduated'],[6,'ramzhy','male','unemployment','post_graduated']]\n",
    "\n",
    "\n",
    "df=pd.DataFrame(data,columns=['id','name','gender','employee_status','education'])\n",
    "print(df)\n",
    "\n",
    "df1=pd.get_dummies(df,columns=['gender'])\n",
    "print(\"\\nDataFrame after One-Hot Encoding:\")\n",
    "print(df1)\n",
    "\n"
   ]
  },
  {
   "cell_type": "code",
   "execution_count": null,
   "id": "ba8788d7-b99e-437a-8a0a-da776c84b54b",
   "metadata": {},
   "outputs": [],
   "source": []
  },
  {
   "cell_type": "code",
   "execution_count": null,
   "id": "9da108d7-8067-4638-b1ce-80bf6b326abe",
   "metadata": {},
   "outputs": [],
   "source": [
    "\n",
    "                    "
   ]
  },
  {
   "cell_type": "code",
   "execution_count": null,
   "id": "243dd266-32ce-4f86-8534-64d33bd00481",
   "metadata": {},
   "outputs": [],
   "source": []
  }
 ],
 "metadata": {
  "kernelspec": {
   "display_name": "Python 3 (ipykernel)",
   "language": "python",
   "name": "python3"
  },
  "language_info": {
   "codemirror_mode": {
    "name": "ipython",
    "version": 3
   },
   "file_extension": ".py",
   "mimetype": "text/x-python",
   "name": "python",
   "nbconvert_exporter": "python",
   "pygments_lexer": "ipython3",
   "version": "3.12.4"
  }
 },
 "nbformat": 4,
 "nbformat_minor": 5
}
