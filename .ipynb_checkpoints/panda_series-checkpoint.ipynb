{
 "cells": [
  {
   "cell_type": "code",
   "execution_count": 3,
   "id": "7b618d37-0073-40a4-be4a-0b5c6ab265cb",
   "metadata": {},
   "outputs": [
    {
     "name": "stdout",
     "output_type": "stream",
     "text": [
      "Requirement already satisfied: pandas in c:\\users\\keert\\anaconda3\\lib\\site-packages (2.2.2)\n",
      "Requirement already satisfied: numpy>=1.26.0 in c:\\users\\keert\\anaconda3\\lib\\site-packages (from pandas) (1.26.4)\n",
      "Requirement already satisfied: python-dateutil>=2.8.2 in c:\\users\\keert\\anaconda3\\lib\\site-packages (from pandas) (2.9.0.post0)\n",
      "Requirement already satisfied: pytz>=2020.1 in c:\\users\\keert\\anaconda3\\lib\\site-packages (from pandas) (2024.1)\n",
      "Requirement already satisfied: tzdata>=2022.7 in c:\\users\\keert\\anaconda3\\lib\\site-packages (from pandas) (2023.3)\n",
      "Requirement already satisfied: six>=1.5 in c:\\users\\keert\\anaconda3\\lib\\site-packages (from python-dateutil>=2.8.2->pandas) (1.16.0)\n",
      "Note: you may need to restart the kernel to use updated packages.\n"
     ]
    }
   ],
   "source": [
    "pip install pandas"
   ]
  },
  {
   "cell_type": "code",
   "execution_count": 45,
   "id": "4eea2a54-9d48-4f28-a5f4-8eebdd1dbe3e",
   "metadata": {},
   "outputs": [],
   "source": [
    "import pandas as pd"
   ]
  },
  {
   "cell_type": "code",
   "execution_count": 47,
   "id": "90531ff5-dfed-4ae9-ad54-ca9d355a0a9a",
   "metadata": {},
   "outputs": [],
   "source": [
    "from pandas import Series"
   ]
  },
  {
   "cell_type": "code",
   "execution_count": 49,
   "id": "d2ea65d9-916f-48f8-b905-0a050b7bac39",
   "metadata": {},
   "outputs": [
    {
     "name": "stdout",
     "output_type": "stream",
     "text": [
      "[1, 2, 3, 4, 5]\n"
     ]
    }
   ],
   "source": [
    "a=[1,2,3,4,5]\n",
    "print(a)\n"
   ]
  },
  {
   "cell_type": "code",
   "execution_count": 51,
   "id": "08346eb0-1d3c-475c-a854-38a331ae4d4f",
   "metadata": {},
   "outputs": [
    {
     "name": "stdout",
     "output_type": "stream",
     "text": [
      "0    1\n",
      "1    2\n",
      "2    3\n",
      "3    4\n",
      "4    5\n",
      "dtype: int64\n"
     ]
    }
   ],
   "source": [
    "a1=Series(a)\n",
    "print(a1)"
   ]
  },
  {
   "cell_type": "code",
   "execution_count": 53,
   "id": "268d1f20-a93e-4af6-93cc-213951b2cb9a",
   "metadata": {},
   "outputs": [
    {
     "name": "stdout",
     "output_type": "stream",
     "text": [
      "RangeIndex(start=0, stop=5, step=1)\n"
     ]
    }
   ],
   "source": [
    "print(a1.index)"
   ]
  },
  {
   "cell_type": "code",
   "execution_count": 55,
   "id": "cc448469-39fc-4ecc-95e8-3a413e886d90",
   "metadata": {},
   "outputs": [
    {
     "name": "stdout",
     "output_type": "stream",
     "text": [
      "[1 2 3 4 5]\n"
     ]
    }
   ],
   "source": [
    "print(a1.values)"
   ]
  },
  {
   "cell_type": "code",
   "execution_count": 57,
   "id": "b0e1ad3b-cbea-4c7c-87b6-12bfbb82d97b",
   "metadata": {},
   "outputs": [
    {
     "name": "stdout",
     "output_type": "stream",
     "text": [
      "0    1\n",
      "1    2\n",
      "2    3\n",
      "3    4\n",
      "4    5\n",
      "dtype: int64\n"
     ]
    }
   ],
   "source": [
    "a2=pd.Series(a)\n",
    "print(a2)\n"
   ]
  },
  {
   "cell_type": "code",
   "execution_count": 59,
   "id": "89794783-eb6c-4c6d-9f6d-8c8dbcdcd958",
   "metadata": {},
   "outputs": [
    {
     "name": "stdout",
     "output_type": "stream",
     "text": [
      "Index(['a', 'b', 'c', 'd', 'e', 'd'], dtype='object')\n"
     ]
    }
   ],
   "source": [
    "a3=pd.Series([1,2,3,5,6,7],index=['a','b','c','d','e','d'])\n",
    "print(a3.index)"
   ]
  },
  {
   "cell_type": "code",
   "execution_count": 61,
   "id": "f7b40291-30af-4058-a230-2308a08d2b4d",
   "metadata": {},
   "outputs": [
    {
     "name": "stdout",
     "output_type": "stream",
     "text": [
      "[1 2 3 5 6 7]\n"
     ]
    }
   ],
   "source": [
    "print(a3.values)"
   ]
  },
  {
   "cell_type": "code",
   "execution_count": 63,
   "id": "2aae58e6-8156-478e-855a-88f80b27b54c",
   "metadata": {},
   "outputs": [
    {
     "name": "stdout",
     "output_type": "stream",
     "text": [
      "Index(['a', 'b', 'c', 'd', 'e', 'd'], dtype='object')\n"
     ]
    }
   ],
   "source": [
    "print(a3.index)"
   ]
  },
  {
   "cell_type": "code",
   "execution_count": 73,
   "id": "9c1a50d2-e544-45f1-bbbd-3e249a89dadc",
   "metadata": {},
   "outputs": [
    {
     "name": "stdout",
     "output_type": "stream",
     "text": [
      "a    0\n",
      "b    1\n",
      "c    2\n",
      "d    3\n",
      "e    4\n",
      "d    5\n",
      "f    6\n",
      "dtype: int32\n"
     ]
    }
   ],
   "source": [
    "import pandas as pd\n",
    "import numpy as np\n",
    "a4=Series(np.arange(7),index=['a','b','c','d','e','d','f'])\n",
    "print(a4)"
   ]
  },
  {
   "cell_type": "code",
   "execution_count": 99,
   "id": "9b7c0e64-5a23-4113-a057-69815ab99420",
   "metadata": {},
   "outputs": [
    {
     "name": "stdout",
     "output_type": "stream",
     "text": [
      "{'apple': 2, 'orange': 3, 'grapes': 4}\n"
     ]
    }
   ],
   "source": [
    "dictSeries={'apple':2,'orange':3,'grapes':4}\n",
    "print(dictSeries)"
   ]
  },
  {
   "cell_type": "code",
   "execution_count": 87,
   "id": "0b16655c-342f-473a-b978-766e98d44c00",
   "metadata": {},
   "outputs": [
    {
     "name": "stdout",
     "output_type": "stream",
     "text": [
      "0    1\n",
      "1    2\n",
      "2    3\n",
      "3    4\n",
      "4    5\n",
      "5    6\n",
      "6    7\n",
      "dtype: int64\n"
     ]
    }
   ],
   "source": [
    "deseries2=Series([1,2,3,4,5,6,7])\n",
    "print(deseries2)\n"
   ]
  },
  {
   "cell_type": "code",
   "execution_count": 91,
   "id": "ff30a83d-7481-4165-9fe0-189384d02296",
   "metadata": {},
   "outputs": [
    {
     "name": "stdout",
     "output_type": "stream",
     "text": [
      "6\n"
     ]
    }
   ],
   "source": [
    "print(deseries2[5]) #only postive index no chance for negative index"
   ]
  },
  {
   "cell_type": "code",
   "execution_count": 107,
   "id": "8a97ed10-d9b4-4a41-b0b9-cb4428673f65",
   "metadata": {},
   "outputs": [
    {
     "name": "stdout",
     "output_type": "stream",
     "text": [
      "2    3\n",
      "3    4\n",
      "dtype: int64\n"
     ]
    }
   ],
   "source": [
    "print(deseries2[2:4])"
   ]
  },
  {
   "cell_type": "code",
   "execution_count": 113,
   "id": "65ee72c4-cf21-4fca-8ffd-bdf0238ea05c",
   "metadata": {},
   "outputs": [
    {
     "name": "stdout",
     "output_type": "stream",
     "text": [
      "False\n"
     ]
    }
   ],
   "source": [
    "print(51 in deseries2)"
   ]
  },
  {
   "cell_type": "code",
   "execution_count": 115,
   "id": "580d8d6c-2d72-44b3-aa7b-1e71b65472db",
   "metadata": {},
   "outputs": [
    {
     "name": "stdout",
     "output_type": "stream",
     "text": [
      "0     4\n",
      "1     5\n",
      "2     6\n",
      "3     7\n",
      "4     8\n",
      "5     9\n",
      "6    10\n",
      "dtype: int64\n"
     ]
    }
   ],
   "source": [
    "print(deseries2+3)"
   ]
  },
  {
   "cell_type": "code",
   "execution_count": null,
   "id": "a0a15551-9b3c-4f24-928d-26c45f46e01a",
   "metadata": {},
   "outputs": [],
   "source": []
  }
 ],
 "metadata": {
  "kernelspec": {
   "display_name": "Python 3 (ipykernel)",
   "language": "python",
   "name": "python3"
  },
  "language_info": {
   "codemirror_mode": {
    "name": "ipython",
    "version": 3
   },
   "file_extension": ".py",
   "mimetype": "text/x-python",
   "name": "python",
   "nbconvert_exporter": "python",
   "pygments_lexer": "ipython3",
   "version": "3.12.4"
  }
 },
 "nbformat": 4,
 "nbformat_minor": 5
}
