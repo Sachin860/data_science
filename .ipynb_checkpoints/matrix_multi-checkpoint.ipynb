{
 "cells": [
  {
   "cell_type": "code",
   "execution_count": 28,
   "id": "190c35f3-94db-4579-b7e1-dcc21df042ad",
   "metadata": {},
   "outputs": [
    {
     "name": "stdout",
     "output_type": "stream",
     "text": [
      "[ 1  2  3 14  5 10 12 16]\n"
     ]
    }
   ],
   "source": [
    "import numpy as np\n",
    "from scipy import stats\n",
    "a=[1,2,3,14,5,10,12,16]\n",
    "b=np.array(a)\n",
    "print(b)"
   ]
  },
  {
   "cell_type": "code",
   "execution_count": 29,
   "id": "088fdcb4-816b-462a-8349-b7c38fdaa239",
   "metadata": {},
   "outputs": [
    {
     "data": {
      "text/plain": [
       "7.875"
      ]
     },
     "execution_count": 29,
     "metadata": {},
     "output_type": "execute_result"
    }
   ],
   "source": [
    "meanvalue=np.mean(b)\n",
    "meanvalue"
   ]
  },
  {
   "cell_type": "code",
   "execution_count": 30,
   "id": "9bfbec28-aa85-48a9-bdfb-325e4cb8b07d",
   "metadata": {},
   "outputs": [
    {
     "name": "stdout",
     "output_type": "stream",
     "text": [
      "7.5\n"
     ]
    }
   ],
   "source": [
    "c=np.median(a)\n",
    "print(c)"
   ]
  },
  {
   "cell_type": "code",
   "execution_count": 31,
   "id": "0715858c-c9f7-4202-bb3a-567d412fc78f",
   "metadata": {},
   "outputs": [],
   "source": [
    "#mean=sum of value n/n  = mean value\n",
    "#median value\n",
    "#odd = n+1/2 \n",
    "#even= average value of center value in array/2"
   ]
  },
  {
   "cell_type": "code",
   "execution_count": 42,
   "id": "9b24a807-123f-496e-aede-f9428fc006e0",
   "metadata": {},
   "outputs": [
    {
     "name": "stdout",
     "output_type": "stream",
     "text": [
      "ModeResult(mode=3, count=2)\n",
      "3\n",
      "2\n"
     ]
    }
   ],
   "source": [
    "a=[1,2,3,4,3,5,7]\n",
    "c=stats.mode(a)\n",
    "print(c)\n",
    "print(c.mode)\n",
    "print(c.count)"
   ]
  },
  {
   "cell_type": "code",
   "execution_count": 69,
   "id": "e33dbca9-fc19-44e8-9287-91dd8f34c097",
   "metadata": {},
   "outputs": [
    {
     "name": "stdout",
     "output_type": "stream",
     "text": [
      "13.444444444444446\n",
      "20.555555555555557\n",
      "21.000000000000004\n",
      "21.111111111111114\n",
      "26.555555555555557\n",
      "45.33333333333333\n",
      "7.5555555555555545\n"
     ]
    },
    {
     "data": {
      "text/plain": [
       "7.5555555555555545"
      ]
     },
     "execution_count": 69,
     "metadata": {},
     "output_type": "execute_result"
    }
   ],
   "source": [
    "a=[1,2,4,5,7,9]\n",
    "c=np.mean(a)\n",
    "sum=0\n",
    "for i in a:\n",
    "    sum=sum+(i-c)**2\n",
    "    print(sum)\n",
    "print(sum/len(a))\n",
    "v=np.var(a)\n",
    "v"
   ]
  },
  {
   "cell_type": "code",
   "execution_count": 111,
   "id": "4eb9bf8e-0f99-4a5a-9d8e-a850044747b1",
   "metadata": {},
   "outputs": [
    {
     "name": "stdout",
     "output_type": "stream",
     "text": [
      "13.444444444444446\n",
      "20.555555555555557\n",
      "21.000000000000004\n",
      "21.111111111111114\n",
      "26.555555555555557\n",
      "45.33333333333333\n",
      "\n",
      "7.5555555555555545\n",
      "\n",
      "2.748737083745107\n"
     ]
    }
   ],
   "source": [
    "a=[1,2,4,5,7,9]\n",
    "c=np.mean(a)\n",
    "sum=0\n",
    "for i in a:\n",
    "    sum=sum+(i-c)**2\n",
    "    print(sum)\n",
    "print()\n",
    "print(sum/len(a))\n",
    "v=np.var(a)\n",
    "v\n",
    "print()\n",
    "b=np.std(a)\n",
    "print(b)"
   ]
  },
  {
   "cell_type": "code",
   "execution_count": 101,
   "id": "3547d6a8-e8f7-4140-8305-74823a84d295",
   "metadata": {},
   "outputs": [
    {
     "name": "stdout",
     "output_type": "stream",
     "text": [
      "2.748737083745107\n"
     ]
    }
   ],
   "source": [
    "import math\n",
    "f=math.sqrt(v)\n",
    "print(f)"
   ]
  },
  {
   "cell_type": "code",
   "execution_count": 126,
   "id": "5a9922ea-192f-4515-857e-7c4edd5319e9",
   "metadata": {},
   "outputs": [
    {
     "ename": "ValueError",
     "evalue": "Number of columns in A must equal number of rows in B",
     "output_type": "error",
     "traceback": [
      "\u001b[1;31m---------------------------------------------------------------------------\u001b[0m",
      "\u001b[1;31mValueError\u001b[0m                                Traceback (most recent call last)",
      "Cell \u001b[1;32mIn[126], line 33\u001b[0m\n\u001b[0;32m     27\u001b[0m B \u001b[38;5;241m=\u001b[39m [\n\u001b[0;32m     28\u001b[0m     [\u001b[38;5;241m5\u001b[39m,\u001b[38;5;241m6\u001b[39m,\u001b[38;5;241m1\u001b[39m],\n\u001b[0;32m     29\u001b[0m     [\u001b[38;5;241m7\u001b[39m,\u001b[38;5;241m8\u001b[39m,\u001b[38;5;241m1\u001b[39m]\n\u001b[0;32m     30\u001b[0m ]\n\u001b[0;32m     32\u001b[0m \u001b[38;5;66;03m# Multiply matrices A and B\u001b[39;00m\n\u001b[1;32m---> 33\u001b[0m C \u001b[38;5;241m=\u001b[39m matrix_multiplication(A, B)\n\u001b[0;32m     35\u001b[0m \u001b[38;5;66;03m# Print the result\u001b[39;00m\n\u001b[0;32m     36\u001b[0m \u001b[38;5;28mprint\u001b[39m(\u001b[38;5;124m\"\u001b[39m\u001b[38;5;124mMatrix A:\u001b[39m\u001b[38;5;124m\"\u001b[39m)\n",
      "Cell \u001b[1;32mIn[126], line 8\u001b[0m, in \u001b[0;36mmatrix_multiplication\u001b[1;34m(A, B)\u001b[0m\n\u001b[0;32m      6\u001b[0m \u001b[38;5;66;03m# Check if multiplication is possible\u001b[39;00m\n\u001b[0;32m      7\u001b[0m \u001b[38;5;28;01mif\u001b[39;00m cols_A \u001b[38;5;241m!=\u001b[39m rows_B:\n\u001b[1;32m----> 8\u001b[0m     \u001b[38;5;28;01mraise\u001b[39;00m \u001b[38;5;167;01mValueError\u001b[39;00m(\u001b[38;5;124m\"\u001b[39m\u001b[38;5;124mNumber of columns in A must equal number of rows in B\u001b[39m\u001b[38;5;124m\"\u001b[39m)\n\u001b[0;32m     10\u001b[0m \u001b[38;5;66;03m# Create the result matrix C with zeros\u001b[39;00m\n\u001b[0;32m     11\u001b[0m C \u001b[38;5;241m=\u001b[39m [[\u001b[38;5;241m0\u001b[39m \u001b[38;5;28;01mfor\u001b[39;00m _ \u001b[38;5;129;01min\u001b[39;00m \u001b[38;5;28mrange\u001b[39m(cols_B)] \u001b[38;5;28;01mfor\u001b[39;00m _ \u001b[38;5;129;01min\u001b[39;00m \u001b[38;5;28mrange\u001b[39m(rows_A)]\n",
      "\u001b[1;31mValueError\u001b[0m: Number of columns in A must equal number of rows in B"
     ]
    }
   ],
   "source": [
    "def matrix_multiplication(A, B):\n",
    "    # Get the number of rows and columns for both matrices\n",
    "    rows_A, cols_A = len(A), len(A[0])\n",
    "    rows_B, cols_B = len(B), len(B[0])\n",
    "    \n",
    "    # Check if multiplication is possible\n",
    "    if cols_A != rows_B:\n",
    "        raise ValueError(\"Number of columns in A must equal number of rows in B\")\n",
    "    \n",
    "    # Create the result matrix C with zeros\n",
    "    C = [[0 for _ in range(cols_B)] for _ in range(rows_A)]\n",
    "    \n",
    "    # Perform the matrix multiplication\n",
    "    for i in range(rows_A):\n",
    "        for j in range(cols_B):\n",
    "            for k in range(cols_A):\n",
    "                C[i][j] += A[i][k] * B[k][j]\n",
    "    \n",
    "    return C\n",
    "\n",
    "# Example matrices\n",
    "A = [\n",
    "    [1,4,4],\n",
    "    [8,2,4]  \n",
    "]\n",
    "\n",
    "B = [\n",
    "    [5,6,1],\n",
    "    [7,8,1]\n",
    "]\n",
    "\n",
    "# Multiply matrices A and B\n",
    "C = matrix_multiplication(A, B)\n",
    "\n",
    "# Print the result\n",
    "print(\"Matrix A:\")\n",
    "for row in A:\n",
    "    print(row)\n",
    "print(\"\\nMatrix B:\")\n",
    "for row in B:\n",
    "    print(row)\n",
    "print(\"\\nMatrix C (A * B):\")\n",
    "for row in C:\n",
    "    print(row)"
   ]
  },
  {
   "cell_type": "code",
   "execution_count": null,
   "id": "65d022a9-f753-4a3e-820c-214103415d7a",
   "metadata": {},
   "outputs": [],
   "source": []
  }
 ],
 "metadata": {
  "kernelspec": {
   "display_name": "Python 3 (ipykernel)",
   "language": "python",
   "name": "python3"
  },
  "language_info": {
   "codemirror_mode": {
    "name": "ipython",
    "version": 3
   },
   "file_extension": ".py",
   "mimetype": "text/x-python",
   "name": "python",
   "nbconvert_exporter": "python",
   "pygments_lexer": "ipython3",
   "version": "3.12.4"
  }
 },
 "nbformat": 4,
 "nbformat_minor": 5
}
