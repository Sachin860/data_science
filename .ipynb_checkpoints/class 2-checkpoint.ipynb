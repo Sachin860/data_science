{
 "cells": [
  {
   "cell_type": "code",
   "execution_count": 11,
   "id": "e8fe897a-faf1-403a-bc2d-3ab156a7c88f",
   "metadata": {},
   "outputs": [
    {
     "name": "stdin",
     "output_type": "stream",
     "text": [
      "enter a num of students 2\n",
      "enter a num of sem 3\n",
      "enter a number of subjects 2\n",
      "enter a student 0 and sem 0 and subject0= 34\n",
      "enter a student 0 and sem 0 and subject1= 34\n"
     ]
    },
    {
     "name": "stdout",
     "output_type": "stream",
     "text": [
      "[34, 34]\n",
      "[[34, 34]]\n"
     ]
    },
    {
     "name": "stdin",
     "output_type": "stream",
     "text": [
      "enter a student 0 and sem 1 and subject0= 45\n",
      "enter a student 0 and sem 1 and subject1= 67\n"
     ]
    },
    {
     "name": "stdout",
     "output_type": "stream",
     "text": [
      "[45, 67]\n",
      "[[34, 34], [45, 67]]\n"
     ]
    },
    {
     "name": "stdin",
     "output_type": "stream",
     "text": [
      "enter a student 0 and sem 2 and subject0= 76\n",
      "enter a student 0 and sem 2 and subject1= 45\n"
     ]
    },
    {
     "name": "stdout",
     "output_type": "stream",
     "text": [
      "[76, 45]\n",
      "[[34, 34], [45, 67], [76, 45]]\n"
     ]
    },
    {
     "ename": "NameError",
     "evalue": "name 'studentlist' is not defined",
     "output_type": "error",
     "traceback": [
      "\u001b[1;31m---------------------------------------------------------------------------\u001b[0m",
      "\u001b[1;31mNameError\u001b[0m                                 Traceback (most recent call last)",
      "Cell \u001b[1;32mIn[11], line 15\u001b[0m\n\u001b[0;32m     13\u001b[0m     \u001b[38;5;28mprint\u001b[39m(marklist)\n\u001b[0;32m     14\u001b[0m     \u001b[38;5;28mprint\u001b[39m(semlist)\n\u001b[1;32m---> 15\u001b[0m studentlist\u001b[38;5;241m.\u001b[39mappend(semlist)\n\u001b[0;32m     16\u001b[0m \u001b[38;5;28mprint\u001b[39m(studentlist)\n",
      "\u001b[1;31mNameError\u001b[0m: name 'studentlist' is not defined"
     ]
    }
   ],
   "source": [
    "n=int(input('enter a num of students'))\n",
    "sem=int(input('enter a num of sem'))\n",
    "sub=int(input('enter a number of subjects'))\n",
    "student=[]\n",
    "for a in range(n):\n",
    "    semlist=[]\n",
    "    for b in range(sem):\n",
    "        marklist=[]\n",
    "        for c in range(sub):\n",
    "            mark=int(input(f'enter a student {a} and sem {b} and subject{c}='))\n",
    "            marklist.append(mark)\n",
    "        semlist.append(marklist)\n",
    "        print(marklist)\n",
    "        print(semlist)\n",
    "    studentlist.append(semlist)\n",
    "    print(studentlist)"
   ]
  },
  {
   "cell_type": "code",
   "execution_count": 1,
   "id": "37fc6152-7d6f-4c5a-9d17-83ea93e90e51",
   "metadata": {},
   "outputs": [
    {
     "ename": "NameError",
     "evalue": "name 'studentlist' is not defined",
     "output_type": "error",
     "traceback": [
      "\u001b[1;31m---------------------------------------------------------------------------\u001b[0m",
      "\u001b[1;31mNameError\u001b[0m                                 Traceback (most recent call last)",
      "Cell \u001b[1;32mIn[1], line 2\u001b[0m\n\u001b[0;32m      1\u001b[0m \u001b[38;5;28;01mimport\u001b[39;00m \u001b[38;5;21;01mnumpy\u001b[39;00m \u001b[38;5;28;01mas\u001b[39;00m \u001b[38;5;21;01mnp\u001b[39;00m\n\u001b[1;32m----> 2\u001b[0m j\u001b[38;5;241m=\u001b[39mnp\u001b[38;5;241m.\u001b[39marray(studentlist) \u001b[38;5;66;03m#print(np.array(studentlist))\u001b[39;00m\n\u001b[0;32m      3\u001b[0m \u001b[38;5;28mprint\u001b[39m(j)\n",
      "\u001b[1;31mNameError\u001b[0m: name 'studentlist' is not defined"
     ]
    }
   ],
   "source": [
    "import numpy as np\n",
    "j=np.array(studentlist) #print(np.array(studentlist))\n",
    "print(j)"
   ]
  },
  {
   "cell_type": "code",
   "execution_count": 23,
   "id": "a3d52344-b76a-4819-ab96-e552b3cac5e3",
   "metadata": {},
   "outputs": [
    {
     "name": "stdout",
     "output_type": "stream",
     "text": [
      "[ 0  1  2  3  4  5  6  7  8  9 10 11 12 13 14 15 16 17 18 19 20 21 22 23\n",
      " 24 25 26]\n"
     ]
    }
   ],
   "source": [
    "print(np.arange(27))"
   ]
  },
  {
   "cell_type": "code",
   "execution_count": 33,
   "id": "78e071d7-512a-4d10-afd4-e2950f27b950",
   "metadata": {},
   "outputs": [
    {
     "name": "stdout",
     "output_type": "stream",
     "text": [
      "[ 0.   2.5  5.   7.5 10. ]\n"
     ]
    }
   ],
   "source": [
    "print(np.linspace(0,10,5)) #printing the equal separation of ending number in random"
   ]
  },
  {
   "cell_type": "code",
   "execution_count": 41,
   "id": "e4a3b745-a09d-4e11-9b26-d820819b62cb",
   "metadata": {},
   "outputs": [
    {
     "name": "stdout",
     "output_type": "stream",
     "text": [
      "[ 0.  2.  4.  6.  8. 10.]\n"
     ]
    }
   ],
   "source": [
    "print(np.linspace(0,10,6))"
   ]
  },
  {
   "cell_type": "code",
   "execution_count": 45,
   "id": "9a85dbd0-7286-43ae-81df-2254170ac883",
   "metadata": {},
   "outputs": [
    {
     "name": "stdout",
     "output_type": "stream",
     "text": [
      "[0.  1.5 3.  4.5 6.  7.5 9. ]\n"
     ]
    }
   ],
   "source": [
    "print(np.arange(0,10,1.5))"
   ]
  },
  {
   "cell_type": "code",
   "execution_count": 49,
   "id": "97cdea5f-0e7f-42ee-a519-e30e16d6a077",
   "metadata": {},
   "outputs": [
    {
     "name": "stdout",
     "output_type": "stream",
     "text": [
      "[0. 0. 0. 0. 0.]\n"
     ]
    }
   ],
   "source": [
    "print(np.zeros(5))"
   ]
  },
  {
   "cell_type": "code",
   "execution_count": 55,
   "id": "52575117-6a20-460e-b509-2209a5d72c15",
   "metadata": {},
   "outputs": [
    {
     "name": "stdout",
     "output_type": "stream",
     "text": [
      "[[0. 0. 0. 0. 0.]\n",
      " [0. 0. 0. 0. 0.]\n",
      " [0. 0. 0. 0. 0.]\n",
      " [0. 0. 0. 0. 0.]\n",
      " [0. 0. 0. 0. 0.]]\n"
     ]
    }
   ],
   "source": [
    "print(np.zeros((5,5)))"
   ]
  },
  {
   "cell_type": "code",
   "execution_count": 67,
   "id": "0c09e13e-a65e-4d28-b44f-b3672861328a",
   "metadata": {},
   "outputs": [
    {
     "name": "stdout",
     "output_type": "stream",
     "text": [
      "[[[1. 1. 1.]\n",
      "  [1. 1. 1.]]\n",
      "\n",
      " [[1. 1. 1.]\n",
      "  [1. 1. 1.]]\n",
      "\n",
      " [[1. 1. 1.]\n",
      "  [1. 1. 1.]]\n",
      "\n",
      " [[1. 1. 1.]\n",
      "  [1. 1. 1.]]\n",
      "\n",
      " [[1. 1. 1.]\n",
      "  [1. 1. 1.]]]\n"
     ]
    }
   ],
   "source": [
    "print(np.ones((5,2,3))) # (row,subrows,column) zeros and ones "
   ]
  },
  {
   "cell_type": "code",
   "execution_count": 79,
   "id": "3bc41382-50ee-4a31-b90e-836130a42378",
   "metadata": {},
   "outputs": [
    {
     "name": "stdout",
     "output_type": "stream",
     "text": [
      "[[[17 17 17]\n",
      "  [17 17 17]]\n",
      "\n",
      " [[17 17 17]\n",
      "  [17 17 17]]\n",
      "\n",
      " [[17 17 17]\n",
      "  [17 17 17]]\n",
      "\n",
      " [[17 17 17]\n",
      "  [17 17 17]]\n",
      "\n",
      " [[17 17 17]\n",
      "  [17 17 17]]]\n"
     ]
    }
   ],
   "source": [
    "print(np.full((5,2,3),17)) #used to fill selective num to rows and columns"
   ]
  },
  {
   "cell_type": "code",
   "execution_count": 89,
   "id": "cdbe6436-4c1c-40af-bbe0-f6b707028394",
   "metadata": {},
   "outputs": [
    {
     "name": "stdout",
     "output_type": "stream",
     "text": [
      "[[[0.05875289 0.53069407]\n",
      "  [0.27473637 0.28412824]\n",
      "  [0.33680692 0.28989764]]\n",
      "\n",
      " [[0.11000735 0.98441627]\n",
      "  [0.1110038  0.82035165]\n",
      "  [0.61237131 0.38853485]]\n",
      "\n",
      " [[0.61172388 0.50322543]\n",
      "  [0.96811639 0.9868459 ]\n",
      "  [0.26988305 0.07787577]]\n",
      "\n",
      " [[0.0318961  0.77154063]\n",
      "  [0.48381825 0.259706  ]\n",
      "  [0.4560609  0.39047661]]]\n"
     ]
    }
   ],
   "source": [
    "print(np.random.rand(4,3,2)) #print random values inside the matrix"
   ]
  },
  {
   "cell_type": "code",
   "execution_count": 93,
   "id": "4a3188f3-97ec-43b6-b1e9-b544877ab51b",
   "metadata": {},
   "outputs": [
    {
     "name": "stdout",
     "output_type": "stream",
     "text": [
      "[[3 1 2 0 3]\n",
      " [2 3 0 4 5]\n",
      " [0 1 1 4 1]\n",
      " [1 0 5 0 0]\n",
      " [1 5 6 2 4]\n",
      " [6 2 1 0 3]\n",
      " [2 2 2 6 2]\n",
      " [0 4 5 2 3]\n",
      " [1 3 1 2 5]\n",
      " [6 2 2 0 2]]\n"
     ]
    }
   ],
   "source": [
    "print(np.random.randint(0,7,size=(10,5)))"
   ]
  },
  {
   "cell_type": "code",
   "execution_count": 95,
   "id": "cb753fdb-2c71-4edf-9640-64565aca7e96",
   "metadata": {},
   "outputs": [
    {
     "name": "stdout",
     "output_type": "stream",
     "text": [
      "[[[3 3 4 4 6]\n",
      "  [5 2 2 3 4]\n",
      "  [6 2 0 0 6]]\n",
      "\n",
      " [[1 2 3 4 4]\n",
      "  [0 0 4 5 4]\n",
      "  [6 1 1 2 5]]\n",
      "\n",
      " [[2 5 3 6 0]\n",
      "  [5 1 5 5 6]\n",
      "  [1 6 1 0 2]]\n",
      "\n",
      " [[2 3 6 0 2]\n",
      "  [1 0 5 5 4]\n",
      "  [3 0 3 1 2]]\n",
      "\n",
      " [[1 3 3 0 6]\n",
      "  [1 6 0 6 5]\n",
      "  [0 5 1 4 6]]\n",
      "\n",
      " [[5 6 4 2 2]\n",
      "  [2 3 0 1 4]\n",
      "  [6 5 2 4 3]]\n",
      "\n",
      " [[3 4 6 6 2]\n",
      "  [3 0 2 2 1]\n",
      "  [3 6 3 0 6]]\n",
      "\n",
      " [[3 6 4 2 5]\n",
      "  [6 1 2 4 6]\n",
      "  [3 0 6 0 4]]\n",
      "\n",
      " [[2 1 6 1 4]\n",
      "  [6 0 3 4 0]\n",
      "  [4 1 2 4 0]]\n",
      "\n",
      " [[4 3 3 2 5]\n",
      "  [1 2 3 3 1]\n",
      "  [4 5 4 1 0]]]\n"
     ]
    }
   ],
   "source": [
    "print(np.random.randint(0,7,size=(10,3,5)))"
   ]
  },
  {
   "cell_type": "code",
   "execution_count": 13,
   "id": "fd09a76e-eb28-4592-89c1-6c384f7848f2",
   "metadata": {},
   "outputs": [
    {
     "name": "stdout",
     "output_type": "stream",
     "text": [
      "[1 2 3 4]\n",
      "int32\n",
      "1\n",
      "(4,)\n",
      "4\n"
     ]
    }
   ],
   "source": [
    "import numpy as np\n",
    "l=[1,2,3,4]\n",
    "a=np.array(l)\n",
    "print(a)\n",
    "print(a.dtype)\n",
    "print(a.ndim)\n",
    "print(a.shape)\n",
    "print(a.size)"
   ]
  },
  {
   "cell_type": "code",
   "execution_count": 19,
   "id": "98d27d13-b2e4-4e79-a533-56dbf007639b",
   "metadata": {},
   "outputs": [
    {
     "name": "stdout",
     "output_type": "stream",
     "text": [
      "[[2 3 5]\n",
      " [4 5 8]\n",
      " [5 8 9]]\n",
      "int32\n",
      "2\n",
      "(3, 3)\n",
      "9\n"
     ]
    }
   ],
   "source": [
    "l1=[[2,3,5],[4,5,8],[5,8,9]]\n",
    "a=np.array(l1)\n",
    "print(a)\n",
    "print(a.dtype)\n",
    "print(a.ndim)\n",
    "print(a.shape)\n",
    "print(a.size)"
   ]
  },
  {
   "cell_type": "code",
   "execution_count": 23,
   "id": "94054e1a-23cd-4240-b824-7f651fb8f1ac",
   "metadata": {},
   "outputs": [
    {
     "name": "stdout",
     "output_type": "stream",
     "text": [
      "[[[2 3 5]\n",
      "  [4 5 8]]\n",
      "\n",
      " [[5 8 9]\n",
      "  [6 7 9]]]\n",
      "int32\n",
      "3\n",
      "(2, 2, 3)\n",
      "12\n"
     ]
    }
   ],
   "source": [
    "l2=[[[2,3,5],[4,5,8]],[[5,8,9],[6,7,9]]]\n",
    "a=np.array(l2)\n",
    "print(a)\n",
    "print(a.dtype)\n",
    "print(a.ndim)\n",
    "print(a.shape)\n",
    "print(a.size)"
   ]
  },
  {
   "cell_type": "code",
   "execution_count": 27,
   "id": "bd1af2b6-20b4-44a3-932e-0adba9054601",
   "metadata": {},
   "outputs": [
    {
     "name": "stdout",
     "output_type": "stream",
     "text": [
      "[49, 3, 5, 6, 7, 79, 6]\n"
     ]
    }
   ],
   "source": [
    "a=[48,2,4,5,6,78,5]\n",
    "o=[]\n",
    "for i in range(len(a)):\n",
    "    o.append(a[i]+1)\n",
    "print(o)"
   ]
  },
  {
   "cell_type": "code",
   "execution_count": 41,
   "id": "397640df-62dd-4565-8485-e92cd37e21a8",
   "metadata": {},
   "outputs": [
    {
     "name": "stdout",
     "output_type": "stream",
     "text": [
      "[49  3  5  6  7 79  6]\n"
     ]
    }
   ],
   "source": [
    "s=np.array(a)\n",
    "print(s+1)"
   ]
  },
  {
   "cell_type": "code",
   "execution_count": 78,
   "id": "1e874127-ae40-4f2a-aec3-3714532a486c",
   "metadata": {},
   "outputs": [
    {
     "name": "stdout",
     "output_type": "stream",
     "text": [
      "[[1, 2], [2, 3], [9, 8]]\n",
      "[[1 2]\n",
      " [2 3]\n",
      " [9 8]]\n",
      "25\n",
      "1\n",
      "4.166666666666667\n",
      "9\n",
      "3.131382371342656\n",
      "[ 1  3  5  8 17 25]\n",
      "[12 13]\n",
      "[ 3  5 17]\n",
      "[4.         4.33333333]\n",
      "[1 2]\n"
     ]
    }
   ],
   "source": [
    "#3dimension array\n",
    "l=[[1,2],[2,3],[9,8]]\n",
    "print(l)\n",
    "a=np.array(l)\n",
    "print(a)\n",
    "print(a.sum())#adding overall matrix\n",
    "print(a.min())\n",
    "print(a.mean())\n",
    "print(a.max())\n",
    "print(a.std()) \n",
    "print(a.cumsum()) #adding in series one by one\n",
    "print(a.sum(axis=0)) #adding column in matrix\n",
    "print(a.sum(axis=1)) #adding row in matrix\n",
    "print(a.mean(axis=0))\n",
    "print(a.min(axis=0))"
   ]
  },
  {
   "cell_type": "code",
   "execution_count": 74,
   "id": "faac756f-e865-40f7-bf02-47a89afe99e1",
   "metadata": {},
   "outputs": [
    {
     "name": "stdout",
     "output_type": "stream",
     "text": [
      "[2, 3, 4, 5, 6]\n",
      "[2 3 4 5 6]\n",
      "20\n",
      "2\n",
      "4.0\n",
      "6\n",
      "1.4142135623730951\n",
      "[ 2  5  9 14 20]\n",
      "20\n"
     ]
    }
   ],
   "source": [
    "#1 dimension array\n",
    "l=[2,3,4,5,6]\n",
    "print(l)\n",
    "a=np.array(l)\n",
    "print(a)\n",
    "print(a.sum())\n",
    "print(a.min())\n",
    "print(a.mean())\n",
    "print(a.max())\n",
    "print(a.std()) \n",
    "print(a.cumsum())\n",
    "print(a.sum(axis=0))\n"
   ]
  }
 ],
 "metadata": {
  "kernelspec": {
   "display_name": "Python 3 (ipykernel)",
   "language": "python",
   "name": "python3"
  },
  "language_info": {
   "codemirror_mode": {
    "name": "ipython",
    "version": 3
   },
   "file_extension": ".py",
   "mimetype": "text/x-python",
   "name": "python",
   "nbconvert_exporter": "python",
   "pygments_lexer": "ipython3",
   "version": "3.12.4"
  }
 },
 "nbformat": 4,
 "nbformat_minor": 5
}
