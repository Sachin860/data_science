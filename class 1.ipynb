{
 "cells": [
  {
   "cell_type": "code",
   "execution_count": null,
   "id": "8716c3cd",
   "metadata": {},
   "outputs": [],
   "source": [
    "n=int(input('enter a interger'))\n",
    "a=[]\n",
    "for i in range(2,n+1):\n",
    "    if (n%i==0):\n",
    "        a.append(i)\n",
    "a.sort()\n",
    "print('smallest divisor is:',a[0])\n"
   ]
  },
  {
   "cell_type": "code",
   "execution_count": 8,
   "id": "e3974673",
   "metadata": {},
   "outputs": [],
   "source": [
    "import pandas as pd"
   ]
  },
  {
   "cell_type": "code",
   "execution_count": 9,
   "id": "6df459cb",
   "metadata": {},
   "outputs": [
    {
     "name": "stdout",
     "output_type": "stream",
     "text": [
      "Collecting django\n",
      "  Downloading Django-4.2.13-py3-none-any.whl (8.0 MB)\n",
      "Collecting asgiref<4,>=3.6.0\n",
      "  Downloading asgiref-3.8.1-py3-none-any.whl (23 kB)\n",
      "Collecting sqlparse>=0.3.1\n",
      "  Downloading sqlparse-0.5.0-py3-none-any.whl (43 kB)\n",
      "Collecting tzdata\n",
      "  Downloading tzdata-2024.1-py2.py3-none-any.whl (345 kB)\n",
      "Collecting backports.zoneinfo\n",
      "  Downloading backports.zoneinfo-0.2.1-cp38-cp38-win_amd64.whl (38 kB)\n",
      "Collecting typing-extensions>=4\n",
      "  Downloading typing_extensions-4.12.2-py3-none-any.whl (37 kB)\n",
      "Installing collected packages: typing-extensions, tzdata, sqlparse, backports.zoneinfo, asgiref, django\n",
      "  Attempting uninstall: typing-extensions\n",
      "    Found existing installation: typing-extensions 3.7.4.3\n",
      "    Uninstalling typing-extensions-3.7.4.3:\n",
      "      Successfully uninstalled typing-extensions-3.7.4.3\n",
      "Successfully installed asgiref-3.8.1 backports.zoneinfo-0.2.1 django-4.2.13 sqlparse-0.5.0 typing-extensions-4.12.2 tzdata-2024.1\n",
      "Note: you may need to restart the kernel to use updated packages.\n"
     ]
    }
   ],
   "source": [
    "pip install django"
   ]
  },
  {
   "cell_type": "code",
   "execution_count": 5,
   "id": "2b316c5d",
   "metadata": {},
   "outputs": [
    {
     "name": "stdout",
     "output_type": "stream",
     "text": [
      "[0, 1, 0, 1, 0, 1, 0, 1, 0, 1]\n"
     ]
    }
   ],
   "source": [
    "o=[]\n",
    "l=[1,2,3,4,5,6,7,8,9,10]\n",
    "for x in range(len(l)):\n",
    "    o.append(x%2)\n",
    "print(o)"
   ]
  },
  {
   "cell_type": "code",
   "execution_count": 7,
   "id": "2e704835",
   "metadata": {},
   "outputs": [],
   "source": [
    "import numpy as np"
   ]
  },
  {
   "cell_type": "code",
   "execution_count": 13,
   "id": "83578bf1",
   "metadata": {},
   "outputs": [
    {
     "data": {
      "text/plain": [
       "array([  0,  -1,  -2,  -3,  -4,  -5,  -6,  -7,  -8,  -9, -10, -11, -12,\n",
       "       -13, -14])"
      ]
     },
     "execution_count": 13,
     "metadata": {},
     "output_type": "execute_result"
    }
   ],
   "source": [
    "-np.arange(15) #to create a array in a range of 15 we using command arange"
   ]
  },
  {
   "cell_type": "code",
   "execution_count": 15,
   "id": "c1a5247d",
   "metadata": {},
   "outputs": [
    {
     "name": "stdout",
     "output_type": "stream",
     "text": [
      "Array: [1 2 3 4 5]\n",
      "Sum of array elements: 15\n",
      "Mean of array elements: 3.0\n",
      "Square root of each element: [1.         1.41421356 1.73205081 2.         2.23606798]\n"
     ]
    }
   ],
   "source": [
    "import numpy as np\n",
    "\n",
    "# Create a 1-dimensional NumPy array from a Python list\n",
    "arr = np.array([1, 2, 3, 4, 5])\n",
    "\n",
    "# Perform operations on the array\n",
    "print(\"Array:\", arr)\n",
    "print(\"Sum of array elements:\", np.sum(arr))\n",
    "print(\"Mean of array elements:\", np.mean(arr))\n",
    "print(\"Square root of each element:\", np.sqrt(arr))"
   ]
  },
  {
   "cell_type": "code",
   "execution_count": 16,
   "id": "9c0b9ce9",
   "metadata": {},
   "outputs": [
    {
     "name": "stdout",
     "output_type": "stream",
     "text": [
      "['T', '__abs__', '__add__', '__and__', '__array__', '__array_finalize__', '__array_function__', '__array_interface__', '__array_prepare__', '__array_priority__', '__array_struct__', '__array_ufunc__', '__array_wrap__', '__bool__', '__class__', '__complex__', '__contains__', '__copy__', '__deepcopy__', '__delattr__', '__delitem__', '__dir__', '__divmod__', '__doc__', '__eq__', '__float__', '__floordiv__', '__format__', '__ge__', '__getattribute__', '__getitem__', '__gt__', '__hash__', '__iadd__', '__iand__', '__ifloordiv__', '__ilshift__', '__imatmul__', '__imod__', '__imul__', '__index__', '__init__', '__init_subclass__', '__int__', '__invert__', '__ior__', '__ipow__', '__irshift__', '__isub__', '__iter__', '__itruediv__', '__ixor__', '__le__', '__len__', '__lshift__', '__lt__', '__matmul__', '__mod__', '__mul__', '__ne__', '__neg__', '__new__', '__or__', '__pos__', '__pow__', '__radd__', '__rand__', '__rdivmod__', '__reduce__', '__reduce_ex__', '__repr__', '__rfloordiv__', '__rlshift__', '__rmatmul__', '__rmod__', '__rmul__', '__ror__', '__rpow__', '__rrshift__', '__rshift__', '__rsub__', '__rtruediv__', '__rxor__', '__setattr__', '__setitem__', '__setstate__', '__sizeof__', '__str__', '__sub__', '__subclasshook__', '__truediv__', '__xor__', 'all', 'any', 'argmax', 'argmin', 'argpartition', 'argsort', 'astype', 'base', 'byteswap', 'choose', 'clip', 'compress', 'conj', 'conjugate', 'copy', 'ctypes', 'cumprod', 'cumsum', 'data', 'diagonal', 'dot', 'dtype', 'dump', 'dumps', 'fill', 'flags', 'flat', 'flatten', 'getfield', 'imag', 'item', 'itemset', 'itemsize', 'max', 'mean', 'min', 'nbytes', 'ndim', 'newbyteorder', 'nonzero', 'partition', 'prod', 'ptp', 'put', 'ravel', 'real', 'repeat', 'reshape', 'resize', 'round', 'searchsorted', 'setfield', 'setflags', 'shape', 'size', 'sort', 'squeeze', 'std', 'strides', 'sum', 'swapaxes', 'take', 'tobytes', 'tofile', 'tolist', 'tostring', 'trace', 'transpose', 'var', 'view']\n",
      "<class 'numpy.ndarray'>\n"
     ]
    }
   ],
   "source": [
    "a=np.arange(25) #printing dir(a) then prints out all the attributes (methods and properties) \n",
    "print(dir(a))\n",
    "print(type(a))"
   ]
  },
  {
   "cell_type": "code",
   "execution_count": 17,
   "id": "d7455436",
   "metadata": {},
   "outputs": [],
   "source": [
    "l=[1,2,3,4]\n",
    "l1=[[1,2,3],[4,5,6],[7,8,9]]\n",
    "l2=[[[1,2,3],[4,5,6],[7,8,9]],[[9,8,7],[6,5,4],[3,2,1]]]\n"
   ]
  },
  {
   "cell_type": "code",
   "execution_count": 18,
   "id": "5c0b1e8f",
   "metadata": {},
   "outputs": [
    {
     "data": {
      "text/plain": [
       "[1, 2, 3, 4]"
      ]
     },
     "execution_count": 18,
     "metadata": {},
     "output_type": "execute_result"
    }
   ],
   "source": [
    "l"
   ]
  },
  {
   "cell_type": "code",
   "execution_count": 19,
   "id": "a90023ad",
   "metadata": {},
   "outputs": [
    {
     "data": {
      "text/plain": [
       "[[1, 2, 3], [4, 5, 6], [7, 8, 9]]"
      ]
     },
     "execution_count": 19,
     "metadata": {},
     "output_type": "execute_result"
    }
   ],
   "source": [
    "l1"
   ]
  },
  {
   "cell_type": "code",
   "execution_count": 20,
   "id": "39e44fa4",
   "metadata": {},
   "outputs": [
    {
     "data": {
      "text/plain": [
       "[[[1, 2, 3], [4, 5, 6], [7, 8, 9]], [[9, 8, 7], [6, 5, 4], [3, 2, 1]]]"
      ]
     },
     "execution_count": 20,
     "metadata": {},
     "output_type": "execute_result"
    }
   ],
   "source": [
    "l2"
   ]
  },
  {
   "cell_type": "code",
   "execution_count": 24,
   "id": "2d13043e",
   "metadata": {},
   "outputs": [
    {
     "name": "stdout",
     "output_type": "stream",
     "text": [
      "[1 2 3 4]\n"
     ]
    }
   ],
   "source": [
    "a=np.array(l)\n",
    "print(a)"
   ]
  },
  {
   "cell_type": "code",
   "execution_count": 27,
   "id": "903f166e",
   "metadata": {},
   "outputs": [
    {
     "name": "stdout",
     "output_type": "stream",
     "text": [
      "[[[1 2 3]\n",
      "  [4 5 6]\n",
      "  [7 8 9]]\n",
      "\n",
      " [[9 8 7]\n",
      "  [6 5 4]\n",
      "  [3 2 1]]]\n"
     ]
    }
   ],
   "source": [
    "a=np.array(l2)\n",
    "print(a)"
   ]
  },
  {
   "cell_type": "code",
   "execution_count": 29,
   "id": "73fe3bf1",
   "metadata": {},
   "outputs": [
    {
     "name": "stdout",
     "output_type": "stream",
     "text": [
      "[[1 2 3]\n",
      " [4 5 6]\n",
      " [7 8 9]]\n"
     ]
    }
   ],
   "source": [
    "a=np.array(l1)\n",
    "print(a)"
   ]
  },
  {
   "cell_type": "code",
   "execution_count": 31,
   "id": "43b7ec89",
   "metadata": {},
   "outputs": [
    {
     "name": "stdout",
     "output_type": "stream",
     "text": [
      "enter a num of row3\n",
      "enter a num of column3\n",
      "enter a 0 row and 0 column0\n",
      "enter a 0 row and 1 column1\n",
      "enter a 0 row and 2 column2\n",
      "enter a 1 row and 0 column3\n",
      "enter a 1 row and 1 column4\n",
      "enter a 1 row and 2 column5\n",
      "enter a 2 row and 0 column6\n",
      "enter a 2 row and 1 column7\n",
      "enter a 2 row and 2 column8\n"
     ]
    }
   ],
   "source": [
    "r=int(input('enter a num of row'))\n",
    "c=int(input('enter a num of column'))\n",
    "a=[]\n",
    "for i in range(0,r):\n",
    "    il=[]\n",
    "    for b in range(0,c):\n",
    "        d=int(input(f'enter a {i} row and {b} column'))\n",
    "        il.append(d)\n",
    "    a.append(il)"
   ]
  },
  {
   "cell_type": "code",
   "execution_count": 32,
   "id": "66361751",
   "metadata": {},
   "outputs": [
    {
     "name": "stdout",
     "output_type": "stream",
     "text": [
      "[[0, 1, 2], [3, 4, 5], [6, 7, 8]]\n"
     ]
    }
   ],
   "source": [
    "print(a)"
   ]
  },
  {
   "cell_type": "code",
   "execution_count": 35,
   "id": "7148805d",
   "metadata": {},
   "outputs": [
    {
     "name": "stdout",
     "output_type": "stream",
     "text": [
      "[[0 1 2]\n",
      " [3 4 5]\n",
      " [6 7 8]]\n"
     ]
    },
    {
     "data": {
      "text/plain": [
       "array([[0, 1, 2],\n",
       "       [3, 4, 5],\n",
       "       [6, 7, 8]])"
      ]
     },
     "execution_count": 35,
     "metadata": {},
     "output_type": "execute_result"
    }
   ],
   "source": [
    "num=np.array(a)\n",
    "print(num)\n",
    "num"
   ]
  },
  {
   "cell_type": "code",
   "execution_count": 38,
   "id": "d0ea11c5",
   "metadata": {},
   "outputs": [
    {
     "name": "stdout",
     "output_type": "stream",
     "text": [
      "[[ 2  3  4]\n",
      " [ 5  6  7]\n",
      " [ 8  9 10]]\n",
      "\n",
      "[[ 0  2  4]\n",
      " [ 6  8 10]\n",
      " [12 14 16]]\n"
     ]
    }
   ],
   "source": [
    "print(num+2)\n",
    "\n",
    "print()\n",
    "\n",
    "print(num*2)"
   ]
  },
  {
   "cell_type": "code",
   "execution_count": null,
   "id": "948eecdc",
   "metadata": {},
   "outputs": [],
   "source": [
    "r=int(input('enter a num of student'))\n",
    "c=int(input('enter a num of subject'))\n",
    "o=[]\n",
    "for i in range(0,r):\n",
    "    l=[]\n",
    "    sum=0\n",
    "    for j in range(0,c):\n",
    "        u=int(input(f'enter a {i} student and {j}subject='))#f represents the for insert a expression inside a string \n",
    "        sum+=u\n",
    "        l.append(u)\n",
    "    print(l)\n",
    "    print(f'sum of the student {i}={sum}')#and {} used to represent the value to express in brackets\n",
    "    print(f'average of the student {i}={sum/c}')\n",
    "    o.append(l)\n",
    "    print(o)"
   ]
  },
  {
   "cell_type": "code",
   "execution_count": 3,
   "id": "01673c6f",
   "metadata": {},
   "outputs": [
    {
     "name": "stdout",
     "output_type": "stream",
     "text": [
      "enter a num of row2\n",
      "enter a num of column2\n",
      "enter a value to enter in matrix1\n",
      "enter a value to enter in matrix2\n",
      "[1, 2]\n",
      "sum of 0=3\n",
      "[[1, 2]]\n",
      "enter a value to enter in matrix1\n",
      "enter a value to enter in matrix2\n",
      "[1, 2]\n",
      "sum of 1=3\n",
      "[[1, 2], [1, 2]]\n"
     ]
    }
   ],
   "source": [
    "r=int(input('enter a num of row'))\n",
    "c=int(input('enter a num of column'))\n",
    "result=[]\n",
    "for i in range(0,r):\n",
    "    k=[]\n",
    "    sum=0\n",
    "    for j in range(0,c):\n",
    "        value=int(input('enter a value to enter in matrix'))\n",
    "        sum=sum+value\n",
    "        k.append(value)\n",
    "    print(k)\n",
    "    print(f'sum of {i}={sum}')\n",
    "    result.append(k)\n",
    "    print(result)"
   ]
  },
  {
   "cell_type": "code",
   "execution_count": 7,
   "id": "881cd9d9",
   "metadata": {},
   "outputs": [
    {
     "name": "stdout",
     "output_type": "stream",
     "text": [
      "[[1 2]\n",
      " [1 2]]\n"
     ]
    }
   ],
   "source": [
    "import numpy as np\n",
    "j=np.array(result)\n",
    "print(j)"
   ]
  },
  {
   "cell_type": "code",
   "execution_count": 98,
   "id": "a14906ab",
   "metadata": {},
   "outputs": [
    {
     "name": "stdout",
     "output_type": "stream",
     "text": [
      "[[25 83]\n",
      " [28 86]]\n"
     ]
    }
   ],
   "source": [
    "j[:1]+=1\n",
    "print(j)"
   ]
  },
  {
   "cell_type": "code",
   "execution_count": 100,
   "id": "e977246a",
   "metadata": {},
   "outputs": [
    {
     "name": "stdout",
     "output_type": "stream",
     "text": [
      "[[1, 2, 3], [4, 5, 6], [7, 8, 9]]\n",
      "[4, 5, 6]\n",
      "[1, 4, 7]\n",
      "\n",
      "Sub-Matrix (rows 1 and 2, columns 1 and 2):\n",
      "[[5, 6], [8, 9]]\n"
     ]
    }
   ],
   "source": [
    "matrix = [\n",
    "    [1, 2, 3],\n",
    "    [4, 5, 6],\n",
    "    [7, 8, 9]\n",
    "]\n",
    "\n",
    "# Retrieve the entire matrix\n",
    "full_matrix = matrix[:]\n",
    "print(full_matrix)\n",
    "\n",
    "# Retrieve the second row\n",
    "second_row = matrix[1]\n",
    "print(second_row)\n",
    "\n",
    "# Retrieve the first column\n",
    "first_column = [row[0] for row in matrix]\n",
    "print(first_column)\n",
    "\n",
    "# Extract a sub-matrix (rows 1 and 2, columns 1 and 2)\n",
    "sub_matrix = [row[1:3] for row in matrix[1:3]]\n",
    "print(\"\\nSub-Matrix (rows 1 and 2, columns 1 and 2):\")\n",
    "print(sub_matrix)"
   ]
  },
  {
   "cell_type": "code",
   "execution_count": null,
   "id": "f18a1112",
   "metadata": {},
   "outputs": [],
   "source": []
  }
 ],
 "metadata": {
  "kernelspec": {
   "display_name": "Python 3 (ipykernel)",
   "language": "python",
   "name": "python3"
  },
  "language_info": {
   "codemirror_mode": {
    "name": "ipython",
    "version": 3
   },
   "file_extension": ".py",
   "mimetype": "text/x-python",
   "name": "python",
   "nbconvert_exporter": "python",
   "pygments_lexer": "ipython3",
   "version": "3.12.4"
  }
 },
 "nbformat": 4,
 "nbformat_minor": 5
}
